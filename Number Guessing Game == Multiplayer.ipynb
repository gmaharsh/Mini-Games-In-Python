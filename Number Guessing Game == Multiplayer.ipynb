{
 "cells": [
  {
   "cell_type": "code",
   "execution_count": 8,
   "metadata": {},
   "outputs": [],
   "source": [
    "def welcome():\n",
    "    print(\"Welcome To Guessing Game\")"
   ]
  },
  {
   "cell_type": "code",
   "execution_count": 15,
   "metadata": {},
   "outputs": [],
   "source": [
    "from random import randint\n",
    "def start():\n",
    "    welcome()\n",
    "    print(\"Enter 1 For Multiplayer\")\n",
    "    print(\"Enter 2 For Computer\")\n",
    "    n = int(input(\"Enter Your Input\"))\n",
    "    r = int(randint(0,9))\n",
    "    game(n, r)\n",
    "    print(r)"
   ]
  },
  {
   "cell_type": "code",
   "execution_count": 13,
   "metadata": {},
   "outputs": [],
   "source": [
    "def game(n, r):\n",
    "    if (n == 2):\n",
    "        i = 0\n",
    "        while(i<9):\n",
    "                m = int(input(\"Please Enter Your Input\"))\n",
    "                if(check(m, r)):\n",
    "                    if(i%2 == 0):\n",
    "                        print(\"Player Won The Game\")\n",
    "                    else:\n",
    "                        print(\"Computer Won The Game\")\n",
    "                    break\n",
    "                else:\n",
    "                    i += 1"
   ]
  },
  {
   "cell_type": "code",
   "execution_count": 17,
   "metadata": {},
   "outputs": [],
   "source": [
    "def check(m, r):\n",
    "    if (m == r):\n",
    "        return True"
   ]
  },
  {
   "cell_type": "code",
   "execution_count": 18,
   "metadata": {},
   "outputs": [
    {
     "name": "stdout",
     "output_type": "stream",
     "text": [
      "Welcome To Guessing Game\n",
      "Enter 1 For Multiplayer\n",
      "Enter 2 For Computer\n",
      "Player Won The Game\n",
      "9\n"
     ]
    }
   ],
   "source": [
    "start()"
   ]
  },
  {
   "cell_type": "code",
   "execution_count": null,
   "metadata": {},
   "outputs": [],
   "source": []
  }
 ],
 "metadata": {
  "kernelspec": {
   "display_name": "Python 3",
   "language": "python",
   "name": "python3"
  },
  "language_info": {
   "codemirror_mode": {
    "name": "ipython",
    "version": 3
   },
   "file_extension": ".py",
   "mimetype": "text/x-python",
   "name": "python",
   "nbconvert_exporter": "python",
   "pygments_lexer": "ipython3",
   "version": "3.6.3"
  }
 },
 "nbformat": 4,
 "nbformat_minor": 2
}
